{
  "nbformat": 4,
  "nbformat_minor": 0,
  "metadata": {
    "colab": {
      "provenance": [],
      "collapsed_sections": [
        "zd8KAjOyunPb"
      ]
    },
    "kernelspec": {
      "name": "python3",
      "display_name": "Python 3"
    },
    "language_info": {
      "name": "python"
    }
  },
  "cells": [
    {
      "cell_type": "markdown",
      "source": [
        "# Aula 06: Relatório de Análise Exploratória           \n",
        "\n",
        "*   **Professor:** Paulo Rogério Pires Manseira\n",
        "*   **Alunos:** Maruan Biasi El Achkar e Ricardo Falcão Schilieper\n",
        "*   **GitHub:** github.com/manseiracredit\n",
        "\n",
        "---\n"
      ],
      "metadata": {
        "id": "nUJmv3DAps6C"
      }
    },
    {
      "cell_type": "markdown",
      "source": [
        "## Importar Dataset\n",
        "**Fonte:** https://www.kaggle.com/datasets/dhanushnarayananr/credit-card-fraud"
      ],
      "metadata": {
        "id": "UEqghfI9qLgI"
      }
    },
    {
      "cell_type": "code",
      "execution_count": 1,
      "metadata": {
        "colab": {
          "base_uri": "https://localhost:8080/"
        },
        "id": "aI1_PMJDpEkS",
        "outputId": "79b2a3bb-ff18-427f-8593-8e3fa08860fc"
      },
      "outputs": [
        {
          "output_type": "stream",
          "name": "stdout",
          "text": [
            "Downloading from https://www.kaggle.com/api/v1/datasets/download/dhanushnarayananr/credit-card-fraud?dataset_version_number=1...\n"
          ]
        },
        {
          "output_type": "stream",
          "name": "stderr",
          "text": [
            "100%|██████████| 28.9M/28.9M [00:00<00:00, 83.5MB/s]"
          ]
        },
        {
          "output_type": "stream",
          "name": "stdout",
          "text": [
            "Extracting files...\n"
          ]
        },
        {
          "output_type": "stream",
          "name": "stderr",
          "text": [
            "\n"
          ]
        },
        {
          "output_type": "stream",
          "name": "stdout",
          "text": [
            "Path to dataset files: /root/.cache/kagglehub/datasets/dhanushnarayananr/credit-card-fraud/versions/1\n"
          ]
        }
      ],
      "source": [
        "import kagglehub\n",
        "\n",
        "# Download latest version\n",
        "path = kagglehub.dataset_download(\"dhanushnarayananr/credit-card-fraud\")\n",
        "\n",
        "print(\"Path to dataset files:\", path)"
      ]
    },
    {
      "cell_type": "markdown",
      "source": [
        "## Criar Dataframe"
      ],
      "metadata": {
        "id": "W4tmaes7qOCb"
      }
    },
    {
      "cell_type": "code",
      "source": [
        "import os\n",
        "import pandas as pd\n",
        "import matplotlib.pyplot as plt\n",
        "import seaborn as sns\n",
        "import numpy as np\n",
        "\n",
        "path_csv = os.path.join(path, 'card_transdata.csv')\n",
        "\n",
        "df = pd.read_csv(path_csv)\n",
        "\n",
        "display(df.head(3))"
      ],
      "metadata": {
        "colab": {
          "base_uri": "https://localhost:8080/",
          "height": 143
        },
        "id": "wLrhqifqqO-6",
        "outputId": "3e95ab6e-e014-4748-c966-3d0130dec7f5"
      },
      "execution_count": 2,
      "outputs": [
        {
          "output_type": "display_data",
          "data": {
            "text/plain": [
              "   distance_from_home  distance_from_last_transaction  \\\n",
              "0           57.877857                        0.311140   \n",
              "1           10.829943                        0.175592   \n",
              "2            5.091079                        0.805153   \n",
              "\n",
              "   ratio_to_median_purchase_price  repeat_retailer  used_chip  \\\n",
              "0                        1.945940              1.0        1.0   \n",
              "1                        1.294219              1.0        0.0   \n",
              "2                        0.427715              1.0        0.0   \n",
              "\n",
              "   used_pin_number  online_order  fraud  \n",
              "0              0.0           0.0    0.0  \n",
              "1              0.0           0.0    0.0  \n",
              "2              0.0           1.0    0.0  "
            ],
            "text/html": [
              "\n",
              "  <div id=\"df-ed79a453-aa6e-4f9f-a39e-fcc6d4f6395b\" class=\"colab-df-container\">\n",
              "    <div>\n",
              "<style scoped>\n",
              "    .dataframe tbody tr th:only-of-type {\n",
              "        vertical-align: middle;\n",
              "    }\n",
              "\n",
              "    .dataframe tbody tr th {\n",
              "        vertical-align: top;\n",
              "    }\n",
              "\n",
              "    .dataframe thead th {\n",
              "        text-align: right;\n",
              "    }\n",
              "</style>\n",
              "<table border=\"1\" class=\"dataframe\">\n",
              "  <thead>\n",
              "    <tr style=\"text-align: right;\">\n",
              "      <th></th>\n",
              "      <th>distance_from_home</th>\n",
              "      <th>distance_from_last_transaction</th>\n",
              "      <th>ratio_to_median_purchase_price</th>\n",
              "      <th>repeat_retailer</th>\n",
              "      <th>used_chip</th>\n",
              "      <th>used_pin_number</th>\n",
              "      <th>online_order</th>\n",
              "      <th>fraud</th>\n",
              "    </tr>\n",
              "  </thead>\n",
              "  <tbody>\n",
              "    <tr>\n",
              "      <th>0</th>\n",
              "      <td>57.877857</td>\n",
              "      <td>0.311140</td>\n",
              "      <td>1.945940</td>\n",
              "      <td>1.0</td>\n",
              "      <td>1.0</td>\n",
              "      <td>0.0</td>\n",
              "      <td>0.0</td>\n",
              "      <td>0.0</td>\n",
              "    </tr>\n",
              "    <tr>\n",
              "      <th>1</th>\n",
              "      <td>10.829943</td>\n",
              "      <td>0.175592</td>\n",
              "      <td>1.294219</td>\n",
              "      <td>1.0</td>\n",
              "      <td>0.0</td>\n",
              "      <td>0.0</td>\n",
              "      <td>0.0</td>\n",
              "      <td>0.0</td>\n",
              "    </tr>\n",
              "    <tr>\n",
              "      <th>2</th>\n",
              "      <td>5.091079</td>\n",
              "      <td>0.805153</td>\n",
              "      <td>0.427715</td>\n",
              "      <td>1.0</td>\n",
              "      <td>0.0</td>\n",
              "      <td>0.0</td>\n",
              "      <td>1.0</td>\n",
              "      <td>0.0</td>\n",
              "    </tr>\n",
              "  </tbody>\n",
              "</table>\n",
              "</div>\n",
              "    <div class=\"colab-df-buttons\">\n",
              "\n",
              "  <div class=\"colab-df-container\">\n",
              "    <button class=\"colab-df-convert\" onclick=\"convertToInteractive('df-ed79a453-aa6e-4f9f-a39e-fcc6d4f6395b')\"\n",
              "            title=\"Convert this dataframe to an interactive table.\"\n",
              "            style=\"display:none;\">\n",
              "\n",
              "  <svg xmlns=\"http://www.w3.org/2000/svg\" height=\"24px\" viewBox=\"0 -960 960 960\">\n",
              "    <path d=\"M120-120v-720h720v720H120Zm60-500h600v-160H180v160Zm220 220h160v-160H400v160Zm0 220h160v-160H400v160ZM180-400h160v-160H180v160Zm440 0h160v-160H620v160ZM180-180h160v-160H180v160Zm440 0h160v-160H620v160Z\"/>\n",
              "  </svg>\n",
              "    </button>\n",
              "\n",
              "  <style>\n",
              "    .colab-df-container {\n",
              "      display:flex;\n",
              "      gap: 12px;\n",
              "    }\n",
              "\n",
              "    .colab-df-convert {\n",
              "      background-color: #E8F0FE;\n",
              "      border: none;\n",
              "      border-radius: 50%;\n",
              "      cursor: pointer;\n",
              "      display: none;\n",
              "      fill: #1967D2;\n",
              "      height: 32px;\n",
              "      padding: 0 0 0 0;\n",
              "      width: 32px;\n",
              "    }\n",
              "\n",
              "    .colab-df-convert:hover {\n",
              "      background-color: #E2EBFA;\n",
              "      box-shadow: 0px 1px 2px rgba(60, 64, 67, 0.3), 0px 1px 3px 1px rgba(60, 64, 67, 0.15);\n",
              "      fill: #174EA6;\n",
              "    }\n",
              "\n",
              "    .colab-df-buttons div {\n",
              "      margin-bottom: 4px;\n",
              "    }\n",
              "\n",
              "    [theme=dark] .colab-df-convert {\n",
              "      background-color: #3B4455;\n",
              "      fill: #D2E3FC;\n",
              "    }\n",
              "\n",
              "    [theme=dark] .colab-df-convert:hover {\n",
              "      background-color: #434B5C;\n",
              "      box-shadow: 0px 1px 3px 1px rgba(0, 0, 0, 0.15);\n",
              "      filter: drop-shadow(0px 1px 2px rgba(0, 0, 0, 0.3));\n",
              "      fill: #FFFFFF;\n",
              "    }\n",
              "  </style>\n",
              "\n",
              "    <script>\n",
              "      const buttonEl =\n",
              "        document.querySelector('#df-ed79a453-aa6e-4f9f-a39e-fcc6d4f6395b button.colab-df-convert');\n",
              "      buttonEl.style.display =\n",
              "        google.colab.kernel.accessAllowed ? 'block' : 'none';\n",
              "\n",
              "      async function convertToInteractive(key) {\n",
              "        const element = document.querySelector('#df-ed79a453-aa6e-4f9f-a39e-fcc6d4f6395b');\n",
              "        const dataTable =\n",
              "          await google.colab.kernel.invokeFunction('convertToInteractive',\n",
              "                                                    [key], {});\n",
              "        if (!dataTable) return;\n",
              "\n",
              "        const docLinkHtml = 'Like what you see? Visit the ' +\n",
              "          '<a target=\"_blank\" href=https://colab.research.google.com/notebooks/data_table.ipynb>data table notebook</a>'\n",
              "          + ' to learn more about interactive tables.';\n",
              "        element.innerHTML = '';\n",
              "        dataTable['output_type'] = 'display_data';\n",
              "        await google.colab.output.renderOutput(dataTable, element);\n",
              "        const docLink = document.createElement('div');\n",
              "        docLink.innerHTML = docLinkHtml;\n",
              "        element.appendChild(docLink);\n",
              "      }\n",
              "    </script>\n",
              "  </div>\n",
              "\n",
              "\n",
              "    <div id=\"df-3cb6a918-338f-41c3-82dc-210c968e933d\">\n",
              "      <button class=\"colab-df-quickchart\" onclick=\"quickchart('df-3cb6a918-338f-41c3-82dc-210c968e933d')\"\n",
              "                title=\"Suggest charts\"\n",
              "                style=\"display:none;\">\n",
              "\n",
              "<svg xmlns=\"http://www.w3.org/2000/svg\" height=\"24px\"viewBox=\"0 0 24 24\"\n",
              "     width=\"24px\">\n",
              "    <g>\n",
              "        <path d=\"M19 3H5c-1.1 0-2 .9-2 2v14c0 1.1.9 2 2 2h14c1.1 0 2-.9 2-2V5c0-1.1-.9-2-2-2zM9 17H7v-7h2v7zm4 0h-2V7h2v10zm4 0h-2v-4h2v4z\"/>\n",
              "    </g>\n",
              "</svg>\n",
              "      </button>\n",
              "\n",
              "<style>\n",
              "  .colab-df-quickchart {\n",
              "      --bg-color: #E8F0FE;\n",
              "      --fill-color: #1967D2;\n",
              "      --hover-bg-color: #E2EBFA;\n",
              "      --hover-fill-color: #174EA6;\n",
              "      --disabled-fill-color: #AAA;\n",
              "      --disabled-bg-color: #DDD;\n",
              "  }\n",
              "\n",
              "  [theme=dark] .colab-df-quickchart {\n",
              "      --bg-color: #3B4455;\n",
              "      --fill-color: #D2E3FC;\n",
              "      --hover-bg-color: #434B5C;\n",
              "      --hover-fill-color: #FFFFFF;\n",
              "      --disabled-bg-color: #3B4455;\n",
              "      --disabled-fill-color: #666;\n",
              "  }\n",
              "\n",
              "  .colab-df-quickchart {\n",
              "    background-color: var(--bg-color);\n",
              "    border: none;\n",
              "    border-radius: 50%;\n",
              "    cursor: pointer;\n",
              "    display: none;\n",
              "    fill: var(--fill-color);\n",
              "    height: 32px;\n",
              "    padding: 0;\n",
              "    width: 32px;\n",
              "  }\n",
              "\n",
              "  .colab-df-quickchart:hover {\n",
              "    background-color: var(--hover-bg-color);\n",
              "    box-shadow: 0 1px 2px rgba(60, 64, 67, 0.3), 0 1px 3px 1px rgba(60, 64, 67, 0.15);\n",
              "    fill: var(--button-hover-fill-color);\n",
              "  }\n",
              "\n",
              "  .colab-df-quickchart-complete:disabled,\n",
              "  .colab-df-quickchart-complete:disabled:hover {\n",
              "    background-color: var(--disabled-bg-color);\n",
              "    fill: var(--disabled-fill-color);\n",
              "    box-shadow: none;\n",
              "  }\n",
              "\n",
              "  .colab-df-spinner {\n",
              "    border: 2px solid var(--fill-color);\n",
              "    border-color: transparent;\n",
              "    border-bottom-color: var(--fill-color);\n",
              "    animation:\n",
              "      spin 1s steps(1) infinite;\n",
              "  }\n",
              "\n",
              "  @keyframes spin {\n",
              "    0% {\n",
              "      border-color: transparent;\n",
              "      border-bottom-color: var(--fill-color);\n",
              "      border-left-color: var(--fill-color);\n",
              "    }\n",
              "    20% {\n",
              "      border-color: transparent;\n",
              "      border-left-color: var(--fill-color);\n",
              "      border-top-color: var(--fill-color);\n",
              "    }\n",
              "    30% {\n",
              "      border-color: transparent;\n",
              "      border-left-color: var(--fill-color);\n",
              "      border-top-color: var(--fill-color);\n",
              "      border-right-color: var(--fill-color);\n",
              "    }\n",
              "    40% {\n",
              "      border-color: transparent;\n",
              "      border-right-color: var(--fill-color);\n",
              "      border-top-color: var(--fill-color);\n",
              "    }\n",
              "    60% {\n",
              "      border-color: transparent;\n",
              "      border-right-color: var(--fill-color);\n",
              "    }\n",
              "    80% {\n",
              "      border-color: transparent;\n",
              "      border-right-color: var(--fill-color);\n",
              "      border-bottom-color: var(--fill-color);\n",
              "    }\n",
              "    90% {\n",
              "      border-color: transparent;\n",
              "      border-bottom-color: var(--fill-color);\n",
              "    }\n",
              "  }\n",
              "</style>\n",
              "\n",
              "      <script>\n",
              "        async function quickchart(key) {\n",
              "          const quickchartButtonEl =\n",
              "            document.querySelector('#' + key + ' button');\n",
              "          quickchartButtonEl.disabled = true;  // To prevent multiple clicks.\n",
              "          quickchartButtonEl.classList.add('colab-df-spinner');\n",
              "          try {\n",
              "            const charts = await google.colab.kernel.invokeFunction(\n",
              "                'suggestCharts', [key], {});\n",
              "          } catch (error) {\n",
              "            console.error('Error during call to suggestCharts:', error);\n",
              "          }\n",
              "          quickchartButtonEl.classList.remove('colab-df-spinner');\n",
              "          quickchartButtonEl.classList.add('colab-df-quickchart-complete');\n",
              "        }\n",
              "        (() => {\n",
              "          let quickchartButtonEl =\n",
              "            document.querySelector('#df-3cb6a918-338f-41c3-82dc-210c968e933d button');\n",
              "          quickchartButtonEl.style.display =\n",
              "            google.colab.kernel.accessAllowed ? 'block' : 'none';\n",
              "        })();\n",
              "      </script>\n",
              "    </div>\n",
              "\n",
              "    </div>\n",
              "  </div>\n"
            ],
            "application/vnd.google.colaboratory.intrinsic+json": {
              "type": "dataframe",
              "summary": "{\n  \"name\": \"display(df\",\n  \"rows\": 3,\n  \"fields\": [\n    {\n      \"column\": \"distance_from_home\",\n      \"properties\": {\n        \"dtype\": \"number\",\n        \"std\": 28.962287512441016,\n        \"min\": 5.091079490616996,\n        \"max\": 57.87785658389723,\n        \"num_unique_values\": 3,\n        \"samples\": [\n          57.87785658389723,\n          10.829942699255543,\n          5.091079490616996\n        ],\n        \"semantic_type\": \"\",\n        \"description\": \"\"\n      }\n    },\n    {\n      \"column\": \"distance_from_last_transaction\",\n      \"properties\": {\n        \"dtype\": \"number\",\n        \"std\": 0.3313530347971124,\n        \"min\": 0.1755915022816658,\n        \"max\": 0.8051525945853258,\n        \"num_unique_values\": 3,\n        \"samples\": [\n          0.3111400080477545,\n          0.1755915022816658,\n          0.8051525945853258\n        ],\n        \"semantic_type\": \"\",\n        \"description\": \"\"\n      }\n    },\n    {\n      \"column\": \"ratio_to_median_purchase_price\",\n      \"properties\": {\n        \"dtype\": \"number\",\n        \"std\": 0.761640609536847,\n        \"min\": 0.4277145611942758,\n        \"max\": 1.9459399775518595,\n        \"num_unique_values\": 3,\n        \"samples\": [\n          1.9459399775518595,\n          1.294218810619857,\n          0.4277145611942758\n        ],\n        \"semantic_type\": \"\",\n        \"description\": \"\"\n      }\n    },\n    {\n      \"column\": \"repeat_retailer\",\n      \"properties\": {\n        \"dtype\": \"number\",\n        \"std\": 0.0,\n        \"min\": 1.0,\n        \"max\": 1.0,\n        \"num_unique_values\": 1,\n        \"samples\": [\n          1.0\n        ],\n        \"semantic_type\": \"\",\n        \"description\": \"\"\n      }\n    },\n    {\n      \"column\": \"used_chip\",\n      \"properties\": {\n        \"dtype\": \"number\",\n        \"std\": 0.5773502691896258,\n        \"min\": 0.0,\n        \"max\": 1.0,\n        \"num_unique_values\": 2,\n        \"samples\": [\n          0.0\n        ],\n        \"semantic_type\": \"\",\n        \"description\": \"\"\n      }\n    },\n    {\n      \"column\": \"used_pin_number\",\n      \"properties\": {\n        \"dtype\": \"number\",\n        \"std\": 0.0,\n        \"min\": 0.0,\n        \"max\": 0.0,\n        \"num_unique_values\": 1,\n        \"samples\": [\n          0.0\n        ],\n        \"semantic_type\": \"\",\n        \"description\": \"\"\n      }\n    },\n    {\n      \"column\": \"online_order\",\n      \"properties\": {\n        \"dtype\": \"number\",\n        \"std\": 0.5773502691896258,\n        \"min\": 0.0,\n        \"max\": 1.0,\n        \"num_unique_values\": 2,\n        \"samples\": [\n          1.0\n        ],\n        \"semantic_type\": \"\",\n        \"description\": \"\"\n      }\n    },\n    {\n      \"column\": \"fraud\",\n      \"properties\": {\n        \"dtype\": \"number\",\n        \"std\": 0.0,\n        \"min\": 0.0,\n        \"max\": 0.0,\n        \"num_unique_values\": 1,\n        \"samples\": [\n          0.0\n        ],\n        \"semantic_type\": \"\",\n        \"description\": \"\"\n      }\n    }\n  ]\n}"
            }
          },
          "metadata": {}
        }
      ]
    },
    {
      "cell_type": "code",
      "source": [
        "display(df.describe())"
      ],
      "metadata": {
        "colab": {
          "base_uri": "https://localhost:8080/",
          "height": 300
        },
        "id": "Zxo01PElqQAI",
        "outputId": "db6b0819-983a-4af4-8d4c-d99323759f5f"
      },
      "execution_count": 3,
      "outputs": [
        {
          "output_type": "display_data",
          "data": {
            "text/plain": [
              "       distance_from_home  distance_from_last_transaction  \\\n",
              "count      1000000.000000                  1000000.000000   \n",
              "mean            26.628792                        5.036519   \n",
              "std             65.390784                       25.843093   \n",
              "min              0.004874                        0.000118   \n",
              "25%              3.878008                        0.296671   \n",
              "50%              9.967760                        0.998650   \n",
              "75%             25.743985                        3.355748   \n",
              "max          10632.723672                    11851.104565   \n",
              "\n",
              "       ratio_to_median_purchase_price  repeat_retailer       used_chip  \\\n",
              "count                  1000000.000000   1000000.000000  1000000.000000   \n",
              "mean                         1.824182         0.881536        0.350399   \n",
              "std                          2.799589         0.323157        0.477095   \n",
              "min                          0.004399         0.000000        0.000000   \n",
              "25%                          0.475673         1.000000        0.000000   \n",
              "50%                          0.997717         1.000000        0.000000   \n",
              "75%                          2.096370         1.000000        1.000000   \n",
              "max                        267.802942         1.000000        1.000000   \n",
              "\n",
              "       used_pin_number    online_order           fraud  \n",
              "count   1000000.000000  1000000.000000  1000000.000000  \n",
              "mean          0.100608        0.650552        0.087403  \n",
              "std           0.300809        0.476796        0.282425  \n",
              "min           0.000000        0.000000        0.000000  \n",
              "25%           0.000000        0.000000        0.000000  \n",
              "50%           0.000000        1.000000        0.000000  \n",
              "75%           0.000000        1.000000        0.000000  \n",
              "max           1.000000        1.000000        1.000000  "
            ],
            "text/html": [
              "\n",
              "  <div id=\"df-83ab5613-4a86-40f9-b165-2ff48b04664c\" class=\"colab-df-container\">\n",
              "    <div>\n",
              "<style scoped>\n",
              "    .dataframe tbody tr th:only-of-type {\n",
              "        vertical-align: middle;\n",
              "    }\n",
              "\n",
              "    .dataframe tbody tr th {\n",
              "        vertical-align: top;\n",
              "    }\n",
              "\n",
              "    .dataframe thead th {\n",
              "        text-align: right;\n",
              "    }\n",
              "</style>\n",
              "<table border=\"1\" class=\"dataframe\">\n",
              "  <thead>\n",
              "    <tr style=\"text-align: right;\">\n",
              "      <th></th>\n",
              "      <th>distance_from_home</th>\n",
              "      <th>distance_from_last_transaction</th>\n",
              "      <th>ratio_to_median_purchase_price</th>\n",
              "      <th>repeat_retailer</th>\n",
              "      <th>used_chip</th>\n",
              "      <th>used_pin_number</th>\n",
              "      <th>online_order</th>\n",
              "      <th>fraud</th>\n",
              "    </tr>\n",
              "  </thead>\n",
              "  <tbody>\n",
              "    <tr>\n",
              "      <th>count</th>\n",
              "      <td>1000000.000000</td>\n",
              "      <td>1000000.000000</td>\n",
              "      <td>1000000.000000</td>\n",
              "      <td>1000000.000000</td>\n",
              "      <td>1000000.000000</td>\n",
              "      <td>1000000.000000</td>\n",
              "      <td>1000000.000000</td>\n",
              "      <td>1000000.000000</td>\n",
              "    </tr>\n",
              "    <tr>\n",
              "      <th>mean</th>\n",
              "      <td>26.628792</td>\n",
              "      <td>5.036519</td>\n",
              "      <td>1.824182</td>\n",
              "      <td>0.881536</td>\n",
              "      <td>0.350399</td>\n",
              "      <td>0.100608</td>\n",
              "      <td>0.650552</td>\n",
              "      <td>0.087403</td>\n",
              "    </tr>\n",
              "    <tr>\n",
              "      <th>std</th>\n",
              "      <td>65.390784</td>\n",
              "      <td>25.843093</td>\n",
              "      <td>2.799589</td>\n",
              "      <td>0.323157</td>\n",
              "      <td>0.477095</td>\n",
              "      <td>0.300809</td>\n",
              "      <td>0.476796</td>\n",
              "      <td>0.282425</td>\n",
              "    </tr>\n",
              "    <tr>\n",
              "      <th>min</th>\n",
              "      <td>0.004874</td>\n",
              "      <td>0.000118</td>\n",
              "      <td>0.004399</td>\n",
              "      <td>0.000000</td>\n",
              "      <td>0.000000</td>\n",
              "      <td>0.000000</td>\n",
              "      <td>0.000000</td>\n",
              "      <td>0.000000</td>\n",
              "    </tr>\n",
              "    <tr>\n",
              "      <th>25%</th>\n",
              "      <td>3.878008</td>\n",
              "      <td>0.296671</td>\n",
              "      <td>0.475673</td>\n",
              "      <td>1.000000</td>\n",
              "      <td>0.000000</td>\n",
              "      <td>0.000000</td>\n",
              "      <td>0.000000</td>\n",
              "      <td>0.000000</td>\n",
              "    </tr>\n",
              "    <tr>\n",
              "      <th>50%</th>\n",
              "      <td>9.967760</td>\n",
              "      <td>0.998650</td>\n",
              "      <td>0.997717</td>\n",
              "      <td>1.000000</td>\n",
              "      <td>0.000000</td>\n",
              "      <td>0.000000</td>\n",
              "      <td>1.000000</td>\n",
              "      <td>0.000000</td>\n",
              "    </tr>\n",
              "    <tr>\n",
              "      <th>75%</th>\n",
              "      <td>25.743985</td>\n",
              "      <td>3.355748</td>\n",
              "      <td>2.096370</td>\n",
              "      <td>1.000000</td>\n",
              "      <td>1.000000</td>\n",
              "      <td>0.000000</td>\n",
              "      <td>1.000000</td>\n",
              "      <td>0.000000</td>\n",
              "    </tr>\n",
              "    <tr>\n",
              "      <th>max</th>\n",
              "      <td>10632.723672</td>\n",
              "      <td>11851.104565</td>\n",
              "      <td>267.802942</td>\n",
              "      <td>1.000000</td>\n",
              "      <td>1.000000</td>\n",
              "      <td>1.000000</td>\n",
              "      <td>1.000000</td>\n",
              "      <td>1.000000</td>\n",
              "    </tr>\n",
              "  </tbody>\n",
              "</table>\n",
              "</div>\n",
              "    <div class=\"colab-df-buttons\">\n",
              "\n",
              "  <div class=\"colab-df-container\">\n",
              "    <button class=\"colab-df-convert\" onclick=\"convertToInteractive('df-83ab5613-4a86-40f9-b165-2ff48b04664c')\"\n",
              "            title=\"Convert this dataframe to an interactive table.\"\n",
              "            style=\"display:none;\">\n",
              "\n",
              "  <svg xmlns=\"http://www.w3.org/2000/svg\" height=\"24px\" viewBox=\"0 -960 960 960\">\n",
              "    <path d=\"M120-120v-720h720v720H120Zm60-500h600v-160H180v160Zm220 220h160v-160H400v160Zm0 220h160v-160H400v160ZM180-400h160v-160H180v160Zm440 0h160v-160H620v160ZM180-180h160v-160H180v160Zm440 0h160v-160H620v160Z\"/>\n",
              "  </svg>\n",
              "    </button>\n",
              "\n",
              "  <style>\n",
              "    .colab-df-container {\n",
              "      display:flex;\n",
              "      gap: 12px;\n",
              "    }\n",
              "\n",
              "    .colab-df-convert {\n",
              "      background-color: #E8F0FE;\n",
              "      border: none;\n",
              "      border-radius: 50%;\n",
              "      cursor: pointer;\n",
              "      display: none;\n",
              "      fill: #1967D2;\n",
              "      height: 32px;\n",
              "      padding: 0 0 0 0;\n",
              "      width: 32px;\n",
              "    }\n",
              "\n",
              "    .colab-df-convert:hover {\n",
              "      background-color: #E2EBFA;\n",
              "      box-shadow: 0px 1px 2px rgba(60, 64, 67, 0.3), 0px 1px 3px 1px rgba(60, 64, 67, 0.15);\n",
              "      fill: #174EA6;\n",
              "    }\n",
              "\n",
              "    .colab-df-buttons div {\n",
              "      margin-bottom: 4px;\n",
              "    }\n",
              "\n",
              "    [theme=dark] .colab-df-convert {\n",
              "      background-color: #3B4455;\n",
              "      fill: #D2E3FC;\n",
              "    }\n",
              "\n",
              "    [theme=dark] .colab-df-convert:hover {\n",
              "      background-color: #434B5C;\n",
              "      box-shadow: 0px 1px 3px 1px rgba(0, 0, 0, 0.15);\n",
              "      filter: drop-shadow(0px 1px 2px rgba(0, 0, 0, 0.3));\n",
              "      fill: #FFFFFF;\n",
              "    }\n",
              "  </style>\n",
              "\n",
              "    <script>\n",
              "      const buttonEl =\n",
              "        document.querySelector('#df-83ab5613-4a86-40f9-b165-2ff48b04664c button.colab-df-convert');\n",
              "      buttonEl.style.display =\n",
              "        google.colab.kernel.accessAllowed ? 'block' : 'none';\n",
              "\n",
              "      async function convertToInteractive(key) {\n",
              "        const element = document.querySelector('#df-83ab5613-4a86-40f9-b165-2ff48b04664c');\n",
              "        const dataTable =\n",
              "          await google.colab.kernel.invokeFunction('convertToInteractive',\n",
              "                                                    [key], {});\n",
              "        if (!dataTable) return;\n",
              "\n",
              "        const docLinkHtml = 'Like what you see? Visit the ' +\n",
              "          '<a target=\"_blank\" href=https://colab.research.google.com/notebooks/data_table.ipynb>data table notebook</a>'\n",
              "          + ' to learn more about interactive tables.';\n",
              "        element.innerHTML = '';\n",
              "        dataTable['output_type'] = 'display_data';\n",
              "        await google.colab.output.renderOutput(dataTable, element);\n",
              "        const docLink = document.createElement('div');\n",
              "        docLink.innerHTML = docLinkHtml;\n",
              "        element.appendChild(docLink);\n",
              "      }\n",
              "    </script>\n",
              "  </div>\n",
              "\n",
              "\n",
              "    <div id=\"df-1806d455-5fde-4098-8ad6-366b9d8d68af\">\n",
              "      <button class=\"colab-df-quickchart\" onclick=\"quickchart('df-1806d455-5fde-4098-8ad6-366b9d8d68af')\"\n",
              "                title=\"Suggest charts\"\n",
              "                style=\"display:none;\">\n",
              "\n",
              "<svg xmlns=\"http://www.w3.org/2000/svg\" height=\"24px\"viewBox=\"0 0 24 24\"\n",
              "     width=\"24px\">\n",
              "    <g>\n",
              "        <path d=\"M19 3H5c-1.1 0-2 .9-2 2v14c0 1.1.9 2 2 2h14c1.1 0 2-.9 2-2V5c0-1.1-.9-2-2-2zM9 17H7v-7h2v7zm4 0h-2V7h2v10zm4 0h-2v-4h2v4z\"/>\n",
              "    </g>\n",
              "</svg>\n",
              "      </button>\n",
              "\n",
              "<style>\n",
              "  .colab-df-quickchart {\n",
              "      --bg-color: #E8F0FE;\n",
              "      --fill-color: #1967D2;\n",
              "      --hover-bg-color: #E2EBFA;\n",
              "      --hover-fill-color: #174EA6;\n",
              "      --disabled-fill-color: #AAA;\n",
              "      --disabled-bg-color: #DDD;\n",
              "  }\n",
              "\n",
              "  [theme=dark] .colab-df-quickchart {\n",
              "      --bg-color: #3B4455;\n",
              "      --fill-color: #D2E3FC;\n",
              "      --hover-bg-color: #434B5C;\n",
              "      --hover-fill-color: #FFFFFF;\n",
              "      --disabled-bg-color: #3B4455;\n",
              "      --disabled-fill-color: #666;\n",
              "  }\n",
              "\n",
              "  .colab-df-quickchart {\n",
              "    background-color: var(--bg-color);\n",
              "    border: none;\n",
              "    border-radius: 50%;\n",
              "    cursor: pointer;\n",
              "    display: none;\n",
              "    fill: var(--fill-color);\n",
              "    height: 32px;\n",
              "    padding: 0;\n",
              "    width: 32px;\n",
              "  }\n",
              "\n",
              "  .colab-df-quickchart:hover {\n",
              "    background-color: var(--hover-bg-color);\n",
              "    box-shadow: 0 1px 2px rgba(60, 64, 67, 0.3), 0 1px 3px 1px rgba(60, 64, 67, 0.15);\n",
              "    fill: var(--button-hover-fill-color);\n",
              "  }\n",
              "\n",
              "  .colab-df-quickchart-complete:disabled,\n",
              "  .colab-df-quickchart-complete:disabled:hover {\n",
              "    background-color: var(--disabled-bg-color);\n",
              "    fill: var(--disabled-fill-color);\n",
              "    box-shadow: none;\n",
              "  }\n",
              "\n",
              "  .colab-df-spinner {\n",
              "    border: 2px solid var(--fill-color);\n",
              "    border-color: transparent;\n",
              "    border-bottom-color: var(--fill-color);\n",
              "    animation:\n",
              "      spin 1s steps(1) infinite;\n",
              "  }\n",
              "\n",
              "  @keyframes spin {\n",
              "    0% {\n",
              "      border-color: transparent;\n",
              "      border-bottom-color: var(--fill-color);\n",
              "      border-left-color: var(--fill-color);\n",
              "    }\n",
              "    20% {\n",
              "      border-color: transparent;\n",
              "      border-left-color: var(--fill-color);\n",
              "      border-top-color: var(--fill-color);\n",
              "    }\n",
              "    30% {\n",
              "      border-color: transparent;\n",
              "      border-left-color: var(--fill-color);\n",
              "      border-top-color: var(--fill-color);\n",
              "      border-right-color: var(--fill-color);\n",
              "    }\n",
              "    40% {\n",
              "      border-color: transparent;\n",
              "      border-right-color: var(--fill-color);\n",
              "      border-top-color: var(--fill-color);\n",
              "    }\n",
              "    60% {\n",
              "      border-color: transparent;\n",
              "      border-right-color: var(--fill-color);\n",
              "    }\n",
              "    80% {\n",
              "      border-color: transparent;\n",
              "      border-right-color: var(--fill-color);\n",
              "      border-bottom-color: var(--fill-color);\n",
              "    }\n",
              "    90% {\n",
              "      border-color: transparent;\n",
              "      border-bottom-color: var(--fill-color);\n",
              "    }\n",
              "  }\n",
              "</style>\n",
              "\n",
              "      <script>\n",
              "        async function quickchart(key) {\n",
              "          const quickchartButtonEl =\n",
              "            document.querySelector('#' + key + ' button');\n",
              "          quickchartButtonEl.disabled = true;  // To prevent multiple clicks.\n",
              "          quickchartButtonEl.classList.add('colab-df-spinner');\n",
              "          try {\n",
              "            const charts = await google.colab.kernel.invokeFunction(\n",
              "                'suggestCharts', [key], {});\n",
              "          } catch (error) {\n",
              "            console.error('Error during call to suggestCharts:', error);\n",
              "          }\n",
              "          quickchartButtonEl.classList.remove('colab-df-spinner');\n",
              "          quickchartButtonEl.classList.add('colab-df-quickchart-complete');\n",
              "        }\n",
              "        (() => {\n",
              "          let quickchartButtonEl =\n",
              "            document.querySelector('#df-1806d455-5fde-4098-8ad6-366b9d8d68af button');\n",
              "          quickchartButtonEl.style.display =\n",
              "            google.colab.kernel.accessAllowed ? 'block' : 'none';\n",
              "        })();\n",
              "      </script>\n",
              "    </div>\n",
              "\n",
              "    </div>\n",
              "  </div>\n"
            ],
            "application/vnd.google.colaboratory.intrinsic+json": {
              "type": "dataframe",
              "summary": "{\n  \"name\": \"display(df\",\n  \"rows\": 8,\n  \"fields\": [\n    {\n      \"column\": \"distance_from_home\",\n      \"properties\": {\n        \"dtype\": \"number\",\n        \"std\": 353029.23639239033,\n        \"min\": 0.0048743850667442,\n        \"max\": 1000000.0,\n        \"num_unique_values\": 8,\n        \"samples\": [\n          26.62879219257128,\n          9.967760078697681,\n          1000000.0\n        ],\n        \"semantic_type\": \"\",\n        \"description\": \"\"\n      }\n    },\n    {\n      \"column\": \"distance_from_last_transaction\",\n      \"properties\": {\n        \"dtype\": \"number\",\n        \"std\": 352977.3624937615,\n        \"min\": 0.000118281615244,\n        \"max\": 1000000.0,\n        \"num_unique_values\": 8,\n        \"samples\": [\n          5.036519397861618,\n          0.9986501239499769,\n          1000000.0\n        ],\n        \"semantic_type\": \"\",\n        \"description\": \"\"\n      }\n    },\n    {\n      \"column\": \"ratio_to_median_purchase_price\",\n      \"properties\": {\n        \"dtype\": \"number\",\n        \"std\": 353539.46273868997,\n        \"min\": 0.004399239615964,\n        \"max\": 1000000.0,\n        \"num_unique_values\": 8,\n        \"samples\": [\n          1.8241819784044924,\n          0.9977169368730889,\n          1000000.0\n        ],\n        \"semantic_type\": \"\",\n        \"description\": \"\"\n      }\n    },\n    {\n      \"column\": \"repeat_retailer\",\n      \"properties\": {\n        \"dtype\": \"number\",\n        \"std\": 353553.12771678914,\n        \"min\": 0.0,\n        \"max\": 1000000.0,\n        \"num_unique_values\": 5,\n        \"samples\": [\n          0.881536,\n          1.0,\n          0.32315690482409737\n        ],\n        \"semantic_type\": \"\",\n        \"description\": \"\"\n      }\n    },\n    {\n      \"column\": \"used_chip\",\n      \"properties\": {\n        \"dtype\": \"number\",\n        \"std\": 353553.2477834981,\n        \"min\": 0.0,\n        \"max\": 1000000.0,\n        \"num_unique_values\": 5,\n        \"samples\": [\n          0.350399,\n          1.0,\n          0.47709513560322026\n        ],\n        \"semantic_type\": \"\",\n        \"description\": \"\"\n      }\n    },\n    {\n      \"column\": \"used_pin_number\",\n      \"properties\": {\n        \"dtype\": \"number\",\n        \"std\": 353553.3198111865,\n        \"min\": 0.0,\n        \"max\": 1000000.0,\n        \"num_unique_values\": 5,\n        \"samples\": [\n          0.100608,\n          1.0,\n          0.3008091102730778\n        ],\n        \"semantic_type\": \"\",\n        \"description\": \"\"\n      }\n    },\n    {\n      \"column\": \"online_order\",\n      \"properties\": {\n        \"dtype\": \"number\",\n        \"std\": 353553.1821309709,\n        \"min\": 0.0,\n        \"max\": 1000000.0,\n        \"num_unique_values\": 5,\n        \"samples\": [\n          0.650552,\n          1.0,\n          0.4767958920028409\n        ],\n        \"semantic_type\": \"\",\n        \"description\": \"\"\n      }\n    },\n    {\n      \"column\": \"fraud\",\n      \"properties\": {\n        \"dtype\": \"number\",\n        \"std\": 353553.321406685,\n        \"min\": 0.0,\n        \"max\": 1000000.0,\n        \"num_unique_values\": 5,\n        \"samples\": [\n          0.087403,\n          1.0,\n          0.2824248490364377\n        ],\n        \"semantic_type\": \"\",\n        \"description\": \"\"\n      }\n    }\n  ]\n}"
            }
          },
          "metadata": {}
        }
      ]
    },
    {
      "cell_type": "markdown",
      "source": [
        "---\n",
        "## Parte 1: A Estrutura de um Bom Relatório de EDA\n",
        "\n"
      ],
      "metadata": {
        "id": "YFO_hvpttgxR"
      }
    },
    {
      "cell_type": "markdown",
      "source": [
        "### Reflita e responda\n",
        "\n",
        "\n",
        "\n",
        "1.    **O Fio da Meada**: \"Qual é a 'espinha dorsal' do seu relatório? Deve-se organizá-lo por tipo de gráfico (todos os histogramas, depois todos os boxplots) ou por 'perguntas de investigação' (ex: 'Investigando o Perfil do Cliente', 'Investigando Fatores de Preço')? Qual abordagem conta uma história melhor?\"\n",
        "\n",
        "**Resp.:** No nosso, uma mistura dos dois, respondendo as \"Perguntas de investigação\" com gráficos. Dessa forma, a pergunta seria uma espécie de explicação do que o gráfico significa.\n",
        "\n",
        "\n",
        "2.   **Relembrando o Objetivo**: \"Releia sua pergunta de negócio das Aulas 01 e 02. Cada gráfico e cada linha de texto que você escreveu, de alguma forma, ajudou a chegar mais perto daquela resposta. Se um gráfico é bonito, mas não ajuda, ele deve entrar no relatório final?\"\n",
        "\n",
        "**Resp.:** Não deve ser incluido, os gráficos só são pertinentes ao relatório final se eles nos trazem informações relevantes.\n",
        "\n"
      ],
      "metadata": {
        "id": "5Np9c_kBveKM"
      }
    },
    {
      "cell_type": "markdown",
      "source": [
        "---\n",
        "---\n",
        "---\n",
        "---\n",
        "---"
      ],
      "metadata": {
        "id": "KPoNBedhuE6t"
      }
    },
    {
      "cell_type": "markdown",
      "source": [
        "# Relatório de Análise Exploratória: Manseira Credit / credit-card-fraud\n",
        "\n",
        "**Dupla:** Maruan Biasi El Achkar e Ricardo Falcão Schilieper\n",
        "\n",
        "**Data:** 16/09/2025\n"
      ],
      "metadata": {
        "id": "zravfPQCuGI3"
      }
    },
    {
      "cell_type": "markdown",
      "source": [
        "---\n",
        "## 1. Introdução e Pergunta de Negócio"
      ],
      "metadata": {
        "id": "tsl7JQTAulbg"
      }
    },
    {
      "cell_type": "markdown",
      "source": [
        "Neste relatório, realizamos uma análise exploratória no dataset **credit-card-fraud**. Nosso objetivo principal é investigar a seguinte pergunta de negócio: **\"Quais fatores indicam que uma compra com cartão de crédito é fraudulenta?\"**.\n",
        "\n",
        "A nossa variável-alvo (aquilo que queremos eventualmente prever ou entender) é a coluna '**fraud**'. As análises a seguir buscam identificar quais outras variáveis têm maior influência sobre ela.\n"
      ],
      "metadata": {
        "id": "MyC65A48vrLb"
      }
    },
    {
      "cell_type": "markdown",
      "source": [
        "---\n",
        "## 2. Análise Univariada: Entendendo as Variáveis Principais"
      ],
      "metadata": {
        "id": "zd8KAjOyunPb"
      }
    },
    {
      "cell_type": "code",
      "source": [
        "Primeiro, analisamos a distribuição das variáveis mais importantes individualmente para entender o perfil dos nossos dados."
      ],
      "metadata": {
        "id": "ct1Sl7ULweJ8"
      },
      "execution_count": null,
      "outputs": []
    },
    {
      "cell_type": "code",
      "source": [
        "ratio_to_median_purchase_price = 'ratio_to_median_purchase_price'\n",
        "\n",
        "if ratio_to_median_purchase_price in df.columns:\n",
        "    plt.figure(figsize=(10, 4))\n",
        "    sns.histplot(df[ratio_to_median_purchase_price], bins=100000)\n",
        "    plt.title(f'Distribuição de {ratio_to_median_purchase_price}')\n",
        "    plt.xlabel(ratio_to_median_purchase_price)\n",
        "    plt.ylabel('Frequência')\n",
        "    plt.xlim(0, 5) # AQUI VAI DAR ZOOM NO GRAFICO PRA GENTE VER SO UMA PARTE\n",
        "    plt.xticks(np.arange(0, 5.1, 0.1), rotation=90) # aqui aumenta a precisao do X axis\n",
        "    plt.grid(axis='x', alpha=0.5)\n",
        "    plt.show()"
      ],
      "metadata": {
        "colab": {
          "base_uri": "https://localhost:8080/",
          "height": 418
        },
        "id": "pV2SpLL9wnyX",
        "outputId": "1700e9ef-e1a3-4448-d58d-091bc3509115"
      },
      "execution_count": 5,
      "outputs": [
        {
          "output_type": "display_data",
          "data": {
            "text/plain": [
              "<Figure size 1000x400 with 1 Axes>"
            ],
            "image/png": "[encoded data removed]"
          },
          "metadata": {}
        }
      ]
    },
    {
      "cell_type": "markdown",
      "source": [
        "**Insight 1**: O gráfico acima mostra que a maioria das compras tem um valor próximo de 0.3 vezes o valor médio de compras, além disso, a quantidade de compras diminui muito a partir de 0.5 vezes e começa a tender à 0 a partir de 3 vezes.. Isso é importante porque nos permite entender o gasto médio das pessoas, o que vai ser útil na hora de interpretar os gráficos que relacionam fraude com valor gasto. Nossa conclusão com base nesse gráfico é que as pessoas costumam fazer mais compras baratas e poucas compras caras."
      ],
      "metadata": {
        "id": "R2vJzsaayu99"
      }
    },
    {
      "cell_type": "markdown",
      "source": [
        "---\n",
        "## 3. Análise Bivariada: Buscando Relações com a Variável-Alvo"
      ],
      "metadata": {
        "id": "RJUad0FZupf2"
      }
    },
    {
      "cell_type": "markdown",
      "source": [
        "Agora, começamos a cruzar variáveis para encontrar relações que nos ajudem a responder nossa pergunta. Nossa primeira hipótese é que 'online_order' (Boolean que indica se uma compra foi online ou não) influencia 'ratio_to_median_purchase_price' (que nos indica o preço da compra, a partir da razão entre o valor dela e o valor médio das compras do cartão). Acreditamos que as compras mais caras são as online.\n"
      ],
      "metadata": {
        "id": "FbL_qfPOzPwE"
      }
    },
    {
      "cell_type": "code",
      "source": [
        "online_order = 'online_order'\n",
        "ratio_to_median_purchase_price = 'ratio_to_median_purchase_price'\n",
        "\n",
        "var_x = online_order\n",
        "var_y = ratio_to_median_purchase_price\n",
        "\n",
        "if var_x in df.columns and var_y in df.columns:\n",
        "    plt.figure(figsize=(5, 8))\n",
        "    sns.scatterplot(x=df[var_x], y=df[var_y], alpha=0.6)\n",
        "    plt.title(f'Relação entre {var_x} e {var_y}')\n",
        "    plt.xlabel(var_x, fontsize=12)\n",
        "    plt.ylabel(var_y, fontsize=12)\n",
        "    plt.grid(True, alpha=0.3)\n",
        "    plt.xticks([0, 1])\n",
        "    plt.ylim(0, 150)\n",
        "    plt.show()"
      ],
      "metadata": {
        "colab": {
          "base_uri": "https://localhost:8080/",
          "height": 722
        },
        "id": "qYCxMZVfzlRM",
        "outputId": "87874a0e-98bc-4f07-bc65-5522bc78a2de"
      },
      "execution_count": 6,
      "outputs": [
        {
          "output_type": "display_data",
          "data": {
            "text/plain": [
              "<Figure size 500x800 with 1 Axes>"
            ],
            "image/png": "[encoded data removed]"
          },
          "metadata": {}
        }
      ]
    },
    {
      "cell_type": "markdown",
      "source": [
        "**Insight 2:** Como esperado, o gráfico mostra que as compras mais caras tendem a ser online. Isso sugere que o valor da compra é um forte candidato para nosso modelo, já que também acreditamos que a maioria das fraudes são através de compras online.\n"
      ],
      "metadata": {
        "id": "1pZoYZcDzsb8"
      }
    },
    {
      "cell_type": "markdown",
      "source": [
        "---\n",
        "## 4. Análise Multivariada: Aprofundando nos Padrões"
      ],
      "metadata": {
        "id": "WZpK8Yh9urVQ"
      }
    },
    {
      "cell_type": "markdown",
      "source": [
        "Para aprofundar, usamos um heatmap para ter uma visão geral de todas as correlações e um scatter plot com hue para investigar subgrupos."
      ],
      "metadata": {
        "id": "kNDDCUN30BqZ"
      }
    },
    {
      "cell_type": "code",
      "source": [
        "correlation_matrix = df.corr()\n",
        "\n",
        "# criar o heatmap\n",
        "plt.figure(figsize=(8, 4))\n",
        "sns.heatmap(correlation_matrix[['fraud']], annot=True, cmap='RdBu', fmt='.2f', linewidths=0.5)\n",
        "plt.title('Correlação com Fraud')\n",
        "plt.show()"
      ],
      "metadata": {
        "colab": {
          "base_uri": "https://localhost:8080/",
          "height": 391
        },
        "id": "drYhaYPI0L3c",
        "outputId": "609ed0b2-1870-4c37-dabb-3b2e844be12a"
      },
      "execution_count": 7,
      "outputs": [
        {
          "output_type": "display_data",
          "data": {
            "text/plain": [
              "<Figure size 800x400 with 2 Axes>"
            ],
            "image/png": "[encoded data removed]"
          },
          "metadata": {}
        }
      ]
    },
    {
      "cell_type": "code",
      "source": [
        "colunas_para_pairplot = ['distance_from_home', 'distance_from_last_transaction', 'ratio_to_median_purchase_price', 'repeat_retailer', 'used_chip', 'used_pin_number', 'online_order']\n",
        "\n",
        "if len(colunas_para_pairplot) > 1 and 'fraud' in df.columns:\n",
        "    sns.pairplot(df[colunas_para_pairplot + ['fraud']], diag_kind='kde', hue='fraud')\n",
        "    plt.suptitle('Pair Plot', y=1.02, fontsize=16)\n",
        "    plt.show()"
      ],
      "metadata": {
        "id": "QZmSf99c0iic"
      },
      "execution_count": null,
      "outputs": []
    },
    {
      "cell_type": "markdown",
      "source": [
        "Insight 3: O heatmap revela uma correlação muito forte entre o preço de uma compra e presença de fraude, igual nós sugerimos no insight 2 .\n",
        "\n",
        "O pair plot revela uma correlação surpreendente entre 'used_pin_number' (uso de senha) e 'distance_from_last_transaction' (distancia entre a compra atual e a compra anterior).\n",
        "Embora não diretamente ligada à nossa variável-alvo, isso pode indicar que a primeira compra em uma viagem costuma ser uma compra barata, não necessitando o uso de senha. Isso por que, na nossa interpretação, a principal causa de uma compra distante da compra anterior é a primeira compra em uma viagem ou a primeira compra ao retornar de uma viagem. Isso pois, a partir dessa, as outras são em uma localização próxima."
      ],
      "metadata": {
        "id": "zOd4ymym0nYt"
      }
    },
    {
      "cell_type": "markdown",
      "source": [
        "---\n",
        "## 5. Conclusão e Próximos Passos para a Modelagem"
      ],
      "metadata": {
        "id": "4eBnVexMuu5w"
      }
    },
    {
      "cell_type": "markdown",
      "source": [
        "### Resumo dos Principais Achados:\n",
        "\n",
        "\n",
        "* Achado 1: Quase todas as fraudes são em compras online.\n",
        "* Achado 2: O valor das compras e a distância entre a compra e a casa do titular tem uma correlação inversa. Quanto mais perto de casa, maior o valor da compra.\n",
        "* Achado 3: A maior parte das fraudes são em lojas novas, ou seja, lojas em que o titular nunca havia comprado.\n",
        "\n",
        "**Recomendação para a Modelagem:** Com base nesta análise, as variáveis mais promissoras para incluir em um modelo preditivo para 'fraud' são:\n",
        "1. Compra Online [online_order]  (devido à sua forte correlação)\n",
        "2. Valor da Compra [ratio_to_median_purchase_price] (devido à sua correlação significativa com o alvo e com outras variáveis)\n",
        "3. Uso de Senha [used_pin_number]  (apesar da correlação fraca, ela pode interagir com outras variáveis)"
      ],
      "metadata": {
        "id": "IxrGa5Uu15PL"
      }
    }
  ]
}